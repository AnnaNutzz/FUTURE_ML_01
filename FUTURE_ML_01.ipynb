{
  "nbformat": 4,
  "nbformat_minor": 0,
  "metadata": {
    "colab": {
      "provenance": []
    },
    "kernelspec": {
      "name": "python3",
      "display_name": "Python 3"
    },
    "language_info": {
      "name": "python"
    }
  },
  "cells": [
    {
      "cell_type": "code",
      "source": [
        "# Install dependencies\n",
        "!pip install prophet scikit-learn --quiet\n",
        "\n",
        "import pandas as pd\n",
        "import numpy as np\n",
        "from prophet import Prophet\n",
        "from sklearn.metrics import mean_absolute_error, mean_squared_error"
      ],
      "metadata": {
        "id": "kkU5LGbLB_I3"
      },
      "execution_count": 29,
      "outputs": []
    },
    {
      "cell_type": "code",
      "execution_count": 30,
      "metadata": {
        "id": "r3IEMOJW9TaI"
      },
      "outputs": [],
      "source": [
        "# Load CSV with correct encoding\n",
        "df = pd.read_csv(\n",
        "    \"mock_kaggle.csv\",\n",
        "    encoding=\"latin1\",\n",
        "    sep=\",\",\n",
        "    quotechar='\"',\n",
        "    on_bad_lines=\"skip\"\n",
        ")"
      ]
    },
    {
      "cell_type": "code",
      "source": [
        "# Aggregate to daily sales\n",
        "df[\"data\"] = pd.to_datetime(df[\"data\"])\n",
        "daily = df.groupby(\"data\", as_index=False)[\"venda\"].sum()"
      ],
      "metadata": {
        "id": "uOpIxZc8Dg4G"
      },
      "execution_count": 31,
      "outputs": []
    },
    {
      "cell_type": "code",
      "source": [
        "# Prepare for Prophet\n",
        "prophet_df = daily.rename(columns={\"data\": \"ds\", \"venda\": \"y\"})"
      ],
      "metadata": {
        "id": "mK83fnOpDjWd"
      },
      "execution_count": 32,
      "outputs": []
    },
    {
      "cell_type": "code",
      "source": [
        "# FINAL MODEL – Train on all data\n",
        "final_model = Prophet(yearly_seasonality=True, weekly_seasonality=True, daily_seasonality=False)\n",
        "final_model.add_seasonality(name='monthly', period=30.5, fourier_order=5)\n",
        "final_model.fit(prophet_df)\n",
        "\n",
        "# Forecast next 90 days\n",
        "future = final_model.make_future_dataframe(periods=90, freq='D')\n",
        "forecast = final_model.predict(future)\n",
        "\n",
        "# Save for Power BI\n",
        "forecast[['ds', 'yhat', 'yhat_lower', 'yhat_upper']].to_csv(\"prophet_forecast.csv\", index=False)\n",
        "print(\"✅ Forecast saved as prophet_forecast.csv\")\n"
      ],
      "metadata": {
        "colab": {
          "base_uri": "https://localhost:8080/"
        },
        "id": "zw2MFJESIFC0",
        "outputId": "52f838b2-c26d-4ae4-e5c7-4f9f2623aefd"
      },
      "execution_count": 33,
      "outputs": [
        {
          "output_type": "stream",
          "name": "stderr",
          "text": [
            "DEBUG:cmdstanpy:input tempfile: /tmp/tmpbsoyfcas/xbk8epw4.json\n",
            "DEBUG:cmdstanpy:input tempfile: /tmp/tmpbsoyfcas/okcwd4fq.json\n",
            "DEBUG:cmdstanpy:idx 0\n",
            "DEBUG:cmdstanpy:running CmdStan, num_threads: None\n",
            "DEBUG:cmdstanpy:CmdStan args: ['/usr/local/lib/python3.11/dist-packages/prophet/stan_model/prophet_model.bin', 'random', 'seed=17603', 'data', 'file=/tmp/tmpbsoyfcas/xbk8epw4.json', 'init=/tmp/tmpbsoyfcas/okcwd4fq.json', 'output', 'file=/tmp/tmpbsoyfcas/prophet_modeluw746njo/prophet_model-20250812071354.csv', 'method=optimize', 'algorithm=lbfgs', 'iter=10000']\n",
            "07:13:54 - cmdstanpy - INFO - Chain [1] start processing\n",
            "INFO:cmdstanpy:Chain [1] start processing\n",
            "07:13:54 - cmdstanpy - INFO - Chain [1] done processing\n",
            "INFO:cmdstanpy:Chain [1] done processing\n"
          ]
        },
        {
          "output_type": "stream",
          "name": "stdout",
          "text": [
            "✅ Forecast saved as prophet_forecast.csv\n"
          ]
        }
      ]
    },
    {
      "cell_type": "code",
      "source": [
        "#⃣ EVALUATION – Train/test split\n",
        "train = prophet_df.iloc[:-90]\n",
        "test = prophet_df.iloc[-90:]\n",
        "\n",
        "eval_model = Prophet(yearly_seasonality=True, weekly_seasonality=True, daily_seasonality=False)\n",
        "eval_model.add_seasonality(name='monthly', period=30.5, fourier_order=5)\n",
        "eval_model.fit(train)\n",
        "\n",
        "# Predict exactly the test period\n",
        "future_test = pd.DataFrame({\"ds\": test[\"ds\"]})\n",
        "fc_test = eval_model.predict(future_test)\n",
        "\n",
        "# Merge for metrics\n",
        "eval_df = pd.merge(test, fc_test[[\"ds\", \"yhat\"]], on=\"ds\", how=\"left\").dropna()\n",
        "\n",
        "# Metrics\n",
        "mae = mean_absolute_error(eval_df['y'], eval_df['yhat'])\n",
        "rmse = np.sqrt(mean_squared_error(eval_df['y'], eval_df['yhat']))\n",
        "\n",
        "print(f\"📊 MAE: {mae:.2f}\")\n",
        "print(f\"📊 RMSE: {rmse:.2f}\")\n",
        "\n",
        "# 📌 Merge actual + forecast for Power BI\n",
        "# Take historical actuals\n",
        "actual_df = prophet_df.copy()\n",
        "actual_df[\"type\"] = \"actual\"\n",
        "\n",
        "# Take forecast from final model\n",
        "forecast_df = forecast[[\"ds\", \"yhat\"]].copy()\n",
        "forecast_df.rename(columns={\"yhat\": \"y\"}, inplace=True)\n",
        "forecast_df[\"type\"] = \"forecast\"\n",
        "\n",
        "# Merge them\n",
        "combined_df = pd.concat([actual_df, forecast_df], ignore_index=True)\n",
        "\n",
        "# Save merged file\n",
        "combined_df.to_csv(\"sales_actual_forecast.csv\", index=False)\n",
        "print(\"✅ Combined actual & forecast saved as sales_actual_forecast.csv\")\n"
      ],
      "metadata": {
        "colab": {
          "base_uri": "https://localhost:8080/"
        },
        "id": "7cPxtUVMIJ2V",
        "outputId": "47057b32-fe2a-42b4-b1d9-48aaa9f46f7e"
      },
      "execution_count": 35,
      "outputs": [
        {
          "output_type": "stream",
          "name": "stderr",
          "text": [
            "DEBUG:cmdstanpy:input tempfile: /tmp/tmpbsoyfcas/0cgqzbib.json\n",
            "DEBUG:cmdstanpy:input tempfile: /tmp/tmpbsoyfcas/1kxluwnp.json\n",
            "DEBUG:cmdstanpy:idx 0\n",
            "DEBUG:cmdstanpy:running CmdStan, num_threads: None\n",
            "DEBUG:cmdstanpy:CmdStan args: ['/usr/local/lib/python3.11/dist-packages/prophet/stan_model/prophet_model.bin', 'random', 'seed=34286', 'data', 'file=/tmp/tmpbsoyfcas/0cgqzbib.json', 'init=/tmp/tmpbsoyfcas/1kxluwnp.json', 'output', 'file=/tmp/tmpbsoyfcas/prophet_modelv01mon0q/prophet_model-20250812075926.csv', 'method=optimize', 'algorithm=lbfgs', 'iter=10000']\n",
            "07:59:26 - cmdstanpy - INFO - Chain [1] start processing\n",
            "INFO:cmdstanpy:Chain [1] start processing\n",
            "07:59:26 - cmdstanpy - INFO - Chain [1] done processing\n",
            "INFO:cmdstanpy:Chain [1] done processing\n"
          ]
        },
        {
          "output_type": "stream",
          "name": "stdout",
          "text": [
            "📊 MAE: 90.70\n",
            "📊 RMSE: 113.40\n",
            "✅ Combined actual & forecast saved as sales_actual_forecast.csv\n"
          ]
        }
      ]
    }
  ]
}